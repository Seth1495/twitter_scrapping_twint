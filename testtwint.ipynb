{
 "cells": [
  {
   "cell_type": "code",
   "execution_count": 29,
   "metadata": {},
   "outputs": [
    {
     "name": "stderr",
     "output_type": "stream",
     "text": [
      "[nltk_data] Downloading package words to\n",
      "[nltk_data]     C:\\Users\\X1\\AppData\\Roaming\\nltk_data...\n",
      "[nltk_data]   Package words is already up-to-date!\n"
     ]
    },
    {
     "name": "stdout",
     "output_type": "stream",
     "text": [
      "Translation API returned and empty response.\n",
      "Translation API returned and empty response.\n",
      "Translation API returned the input string unchanged.\n",
      "Translation API returned and empty response.\n",
      "['Netral', 'Netral', 'Netral', 'Netral', 'positif', 'positif', 'Netral', 'positif', 'positif', 'Netral', 'Netral', 'Netral', 'Netral', 'positif', 'Netral', 'Netral', 'Netral', 'positif', 'positif', 'Netral', 'Netral', 'Netral', 'Netral', 'Netral', 'Netral', 'Netral', 'positif', 'Netral', 'Netral', 'Netral', 'positif', 'Netral', 'Netral', 'Negatif', 'Netral', 'positif', 'Netral', 'Negatif', 'Netral', 'Netral', 'Netral', 'Netral', 'Netral', 'Netral', 'Netral', 'Netral', 'Netral', 'Netral', 'Netral', 'Netral', 'Netral', 'positif', 'Netral', 'Netral', 'Netral', 'Netral', 'positif', 'Netral', 'Netral', 'positif']\n",
      "tweet_poistif : (21.666666666666668 %)\n",
      "tweet_netral : (75.0 %)\n",
      "tweet_negatif : (3.3333333333333335 %)\n",
      "        date                                              tweet Sentimen\n",
      "0   2/3/2023                           HI  agar Twitter dan ya    Netral\n",
      "1   2/3/2023     GIVEAWAY giveaway 10 5G 25 2022   via Twitter    Netral\n",
      "2   2/3/2023        yang ya  ya  dan yang via Twitter ya di ID    Netral\n",
      "3   2/3/2023        GIVEAWAY giveaway 8T 20 2022   via Twitter    Netral\n",
      "4   2/3/2023  paling kalo di 2  2 Sale  Dari 2  6 5 kayak  G...  positif\n",
      "5   2/3/2023  pressure Valentine kalo di 2  2 Sale  Dari 2  ...  positif\n",
      "6   2/3/2023                   di 2  2 Sale 2  6 5   LazadaID22   Netral\n",
      "7   2/3/2023  gadget dari   More Ways To Love  s  d  90  di ...  positif\n",
      "8   2/3/2023   Flag s  d  30  Double  Double  Gratis dan si ...  positif\n",
      "9   2/3/2023   di 2  2 Sale  50    kan   check out di  Lazad...   Netral\n",
      "10  2/3/2023                                            Aku di    Netral\n",
      "11  2/3/2023                                       Aku di mall    Netral\n",
      "12  2/3/2023             yang  organizer dari  40    LazadaID22   Netral\n",
      "13  2/3/2023  di 2  2 Sale  Gratis minimum    check out di  ...  positif\n",
      "14  2/3/2023  Hi there  is there anything we can help you re...   Netral\n",
      "15  2/3/2023                                                ya    Netral\n",
      "16  2/3/2023            ya  ya  dan  via Twitter di ID data ya    Netral\n",
      "17  2/3/2023  Yang   2  2 Double Date  Double Treat  s  d  4...  positif\n",
      "18  2/3/2023  Paling outfit  Special  20  dari This Is  Vouc...  positif\n",
      "19  2/3/2023                                            ya  di    Netral\n",
      "20  2/3/2023                                               ya     Netral\n",
      "21  2/3/2023                                     Twitter di ID    Netral\n",
      "22  2/3/2023   Hi  yang  ya  data dan  Twitter di ID demi data    Netral\n",
      "23  2/3/2023    Clearance Sale di 2  2 Sale  s  d  60   Vouc...   Netral\n",
      "24  2/3/2023            di 1  dan yang Twitter di id guna data    Netral\n",
      "25  2/3/2023                                       di ya  agar    Netral\n",
      "26  2/3/2023    Mau   Voucher  Voucher 50   kan  di  LazadaID22  positif\n",
      "27  2/3/2023   ya  Demi data  order dan Twitter ya di ID  Agar    Netral\n",
      "28  2/3/2023                                                ya    Netral\n",
      "29  2/2/2023                                                ya    Netral\n",
      "30  2/2/2023                yang voucher baru  Demi data di ID   positif\n",
      "31  2/2/2023                                                ya    Netral\n",
      "32  2/2/2023                   yang telephone  Demi data di ID    Netral\n",
      "33  2/2/2023  5  Ransel Casual yang mau stylish  dan di chec...  Negatif\n",
      "34  2/2/2023  4  Topi Baseball Topi  model   Start from 15  ...   Netral\n",
      "35  2/2/2023  3  Tamara Flat aura old money yang di mix and ...  positif\n",
      "36  2/2/2023  2  yang ga 8 rupiah  Review 5 auto check out C...   Netral\n",
      "37  2/2/2023  Dari 10   1  Clutch Waterproof hidden gem dan ...  Negatif\n",
      "38  2/2/2023                                                      Netral\n",
      "39  2/2/2023                                              balas   Netral\n",
      "40  2/2/2023                                     di 2  2 Sale     Netral\n",
      "41  2/2/2023                                                      Netral\n",
      "42  2/2/2023                                data  data dan via    Netral\n",
      "43  2/2/2023                               faham yang yang  ya    Netral\n",
      "44  2/2/2023                                             0kies    Netral\n",
      "45  2/2/2023               ya  ya  data  dan via Twitter ID ya    Netral\n",
      "46  2/2/2023                                             di ya    Netral\n",
      "47  2/2/2023           ya yang  ya  dan via Twitter di ID data    Netral\n",
      "48  2/2/2023              yang  dan data  dan Twitter di ID ya    Netral\n",
      "49  2/2/2023                                     di balas ya      Netral\n",
      "50  2/2/2023  Mau yang di 2  2 Sale  s  d  5  2  6 dan Vouch...   Netral\n",
      "51  2/2/2023  gadget  2  2 Sale  More Ways To Love  90   apa...  positif\n",
      "52  2/2/2023   agar optimal  susu di 2  2 Sale  s  d  40  Vo...   Netral\n",
      "53  2/2/2023                            yah detail Twitter ID     Netral\n",
      "54  2/2/2023                            yah detail Twitter ID     Netral\n",
      "55  2/2/2023                                                      Netral\n",
      "56  2/2/2023   How Pink You Are dan dari  s  d  80  Special ...  positif\n",
      "57  2/2/2023                           yah  yang di  dan  yang    Netral\n",
      "58  2/2/2023                                                ya    Netral\n",
      "59  2/2/2023  aku s  d  5 Gratis Min  dari 2  6 di 2  2 Sale...  positif\n",
      "([<matplotlib.patches.Wedge object at 0x000001F17A752D10>, <matplotlib.patches.Wedge object at 0x000001F17B120ED0>, <matplotlib.patches.Wedge object at 0x000001F17B1229D0>], [Text(0.854860553281778, 0.692252435490676, 'tweet positif'), Text(-0.9225376172610245, -0.5991029500330906, 'tweet netral'), Text(1.0939740869684549, -0.11498128996291371, 'tweet negatif')], [Text(0.4662875745173334, 0.3775922375403687, '21.7%'), Text(-0.5032023366878314, -0.32678342729077664, '75.0%'), Text(0.5967131383464299, -0.06271706725249837, '3.3%')])\n"
     ]
    },
    {
     "name": "stderr",
     "output_type": "stream",
     "text": [
      "C:\\Users\\X1\\AppData\\Local\\Temp\\ipykernel_19288\\982479058.py:66: SettingWithCopyWarning: \n",
      "A value is trying to be set on a copy of a slice from a DataFrame.\n",
      "Try using .loc[row_indexer,col_indexer] = value instead\n",
      "\n",
      "See the caveats in the documentation: https://pandas.pydata.org/pandas-docs/stable/user_guide/indexing.html#returning-a-view-versus-a-copy\n",
      "  df2[\"Sentimen\"]= tweet_hitung1\n"
     ]
    },
    {
     "data": {
      "image/png": "[encoded data removed]",
      "text/plain": [
       "<Figure size 640x480 with 1 Axes>"
      ]
     },
     "metadata": {},
     "output_type": "display_data"
    }
   ],
   "source": [
    "import pandas as pd\n",
    "import re\n",
    "import emoji\n",
    "import nltk\n",
    "from textblob import TextBlob\n",
    "from googletrans import Translator\n",
    "import matplotlib.pyplot as plt\n",
    "\n",
    "nltk.download('words')\n",
    "words = set(nltk.corpus.words.words())\n",
    "df = pd.read_csv(\"Data_Lazada.csv\")\n",
    "\n",
    "dfuse = df.drop(df.columns[[0,1,2,4,5,6,7,8,9,11,12,13,14,15,16,17,18,19,20,21,22,23,24,25,26,27,28,29,30,31,32,33,34,35]], axis = 1)\n",
    "\n",
    "\n",
    "def cleaner(tweet):\n",
    "    tweet = re.sub(\"@[A-Za-z0-9]+\",\"\",str(tweet)) #Remove @ sign\n",
    "    tweet = re.sub(r\"(?:\\@|http?\\://|https?\\://|www)\\S+\", \"\", tweet) #Remove http links\n",
    "    tweet = \" \".join(tweet.split())\n",
    "    tweet = ''.join(c for c in tweet if c not in emoji.EMOJI_DATA) #Remove Emojis\n",
    "    tweet = tweet.replace(\"#\", \"\").replace(\"_\", \" \") #Remove hashtag sign but keep the text\n",
    "    tweet = \" \".join(w for w in nltk.wordpunct_tokenize(tweet) \\\n",
    "         if w.lower() in words or not w.isalpha())\n",
    "    tweet = re.sub(r'[^\\w\\s]', '', (tweet))\n",
    "    \n",
    "    return tweet\n",
    "dfuse['tweet'] = dfuse['tweet'].map(lambda x: cleaner(x))\n",
    "\n",
    "\n",
    "dfuse.to_csv(\"Data_Clean.csv\")\n",
    "df2 = dfuse.iloc[:60]\n",
    "\n",
    "df3 = df2.to_dict(\"dict\")\n",
    "t = df3.get(\"tweet\")\n",
    "\n",
    "tweet_hitung1 = []\n",
    "for value in t.values():\n",
    "    tweet_prop = {}\n",
    "    tweet_bersih = value\n",
    "\n",
    "    analisis = TextBlob(tweet_bersih)\n",
    "    try :\n",
    "        analisis = analisis.translate(from_lang=\"id\",to=\"en\")\n",
    "    except Exception as e :\n",
    "        print(e)\n",
    "    if analisis.sentiment.polarity > 0.0 :\n",
    "        tweet_prop[\"Sentimen\"] = \"positif\"\n",
    "    elif analisis.sentiment.polarity == 0 :\n",
    "        tweet_prop[\"Sentimen\"] = \"Netral\"\n",
    "    else :\n",
    "        tweet_prop[\"Sentimen\"] = \"Negatif\"\n",
    "    for value in tweet_prop.values() :\n",
    "\n",
    "        tweet_hitung1.append(value)\n",
    "\n",
    "#tweet_hitung = list(tweet_prop.values())\n",
    "print(tweet_hitung1)\n",
    "\n",
    "tweet_positif = [i for i in tweet_hitung1 if i==\"positif\"]\n",
    "print(\"tweet_poistif :\",\"({} %)\".format(len(tweet_positif)*100/ len(tweet_hitung1)))\n",
    "tweet_netral = [i for i in tweet_hitung1 if i==\"Netral\"]\n",
    "print(\"tweet_netral :\",\"({} %)\".format(len(tweet_netral)*100/ len(tweet_hitung1)))\n",
    "tweet_negatif = [i for i in tweet_hitung1 if i==\"Negatif\"]\n",
    "print(\"tweet_negatif :\",\"({} %)\".format(len(tweet_negatif)*100/ len(tweet_hitung1)))\n",
    "\n",
    "df2[\"Sentimen\"]= tweet_hitung1\n",
    "\n",
    "print(df2)\n",
    "\"\"\"def translate_to_english(text):\n",
    "    text_blob = TextBlob(text)\n",
    "    return str(text_blob.translate(to='en'))\n",
    "\n",
    "translator = Translator()\n",
    "df2.info()\n",
    "df2['tweet'] = df2['tweet'].apply(lambda x: translator.translate(x, dest='en').text)\"\"\"\n",
    "\n",
    "data_pie = [len(tweet_positif),len(tweet_netral),len(tweet_negatif)]\n",
    "\n",
    "\n",
    "\n",
    "print(plt.pie(data_pie, labels=[\"tweet positif\", \"tweet netral\", \"tweet negatif\"], autopct='%1.1f%%'))\n",
    "\n",
    "\n",
    "\n",
    "\n",
    "\n",
    "\n"
   ]
  },
  {
   "cell_type": "code",
   "execution_count": 28,
   "metadata": {},
   "outputs": [
    {
     "name": "stdout",
     "output_type": "stream",
     "text": [
      "Good morning, how are you doing?\n"
     ]
    }
   ],
   "source": [
    "textii = \"Bonjour comment allez-vous?\"\n",
    "\n",
    "blob = TextBlob(textii)\n",
    "\n",
    "# translate to English\n",
    "translated_text = blob.translate(from_lang = \"fr\",to='en')\n",
    "print(translated_text)"
   ]
  }
 ],
 "metadata": {
  "kernelspec": {
   "display_name": "Python 3",
   "language": "python",
   "name": "python3"
  },
  "language_info": {
   "codemirror_mode": {
    "name": "ipython",
    "version": 3
   },
   "file_extension": ".py",
   "mimetype": "text/x-python",
   "name": "python",
   "nbconvert_exporter": "python",
   "pygments_lexer": "ipython3",
   "version": "3.11.1"
  },
  "orig_nbformat": 4,
  "vscode": {
   "interpreter": {
    "hash": "8fa0e53d8992fe93adae712f09eb854909ef5e4ab3470c851bef496b9b26eaf3"
   }
  }
 },
 "nbformat": 4,
 "nbformat_minor": 2
}
